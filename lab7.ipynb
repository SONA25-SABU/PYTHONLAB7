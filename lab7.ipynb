{
  "cells": [
    {
      "cell_type": "code",
      "execution_count": 1,
      "metadata": {
        "colab": {
          "base_uri": "https://localhost:8080/"
        },
        "id": "hyG5xDeDXa5C",
        "outputId": "bb5689e1-7078-4f34-f0b9-e132f9fc2599"
      },
      "outputs": [
        {
          "name": "stdout",
          "output_type": "stream",
          "text": [
            "Matrix 1:\n",
            "[[0.44568815 0.15503715 0.16327064]\n",
            " [0.92304768 0.61555646 0.17115968]\n",
            " [0.31807244 0.12508686 0.47683011]]\n",
            "\n",
            "Matrix 2:\n",
            "[[0.36069141 0.28503121 0.52712123]\n",
            " [0.02909333 0.636701   0.77099188]\n",
            " [0.67360701 0.23528678 0.79637046]]\n",
            "\n",
            "Product of matrices:\n",
            "2.033324598521444e-09\n",
            "\n",
            "Element-wise multiplication of matrices:\n",
            "[[0.16075589 0.04419043 0.08606342]\n",
            " [0.02685454 0.39192541 0.13196273]\n",
            " [0.21425583 0.02943129 0.37973341]]\n",
            "\n",
            "Dot product of matrices:\n",
            "[[0.27524669 0.26416276 0.48448799]\n",
            " [0.46613832 0.69529442 1.09745357]\n",
            " [0.4395613  0.28249532 0.6438371 ]]\n"
          ]
        }
      ],
      "source": [
        "import numpy as np\n",
        "\n",
        "# Create two random 3x3 matrices\n",
        "matrix1 = np.random.rand(3, 3)\n",
        "matrix2 = np.random.rand(3, 3)\n",
        "\n",
        "# Display the matrices\n",
        "print(\"Matrix 1:\")\n",
        "print(matrix1)\n",
        "print(\"\\nMatrix 2:\")\n",
        "print(matrix2)\n",
        "\n",
        "# Calculate the product of the two matrices using np.prod\n",
        "product_result = np.prod([matrix1, matrix2])\n",
        "print(\"\\nProduct of matrices:\")\n",
        "print(product_result)\n",
        "\n",
        "# Multiply the two matrices element-wise using np.multiply\n",
        "multiply_result = np.multiply(matrix1, matrix2)\n",
        "print(\"\\nElement-wise multiplication of matrices:\")\n",
        "print(multiply_result)\n",
        "\n",
        "# Calculate the dot product of the two matrices using np.dot\n",
        "dot_product_result = np.dot(matrix1, matrix2)\n",
        "print(\"\\nDot product of matrices:\")\n",
        "print(dot_product_result)\n"
      ]
    },
    {
      "cell_type": "markdown",
      "metadata": {
        "id": "4ehboAWYZOo9"
      },
      "source": []
    },
    {
      "cell_type": "code",
      "execution_count": 2,
      "metadata": {
        "colab": {
          "base_uri": "https://localhost:8080/"
        },
        "id": "t0pPUhQpZQ38",
        "outputId": "a01f0b5d-87ad-4262-9a88-7add9fd926ed"
      },
      "outputs": [
        {
          "name": "stdout",
          "output_type": "stream",
          "text": [
            "Union of arrays: [1 2 3 4 5 6 7]\n",
            "Intersection of arrays: [3 4 5]\n",
            "Set difference (array1 - array2): [1 2]\n",
            "XOR of arrays: [1 2 6 7]\n"
          ]
        }
      ],
      "source": [
        "import numpy as np\n",
        "\n",
        "# Create two NumPy arrays for demonstration\n",
        "array1 = np.array([1, 2, 3, 4, 5])\n",
        "array2 = np.array([3, 4, 5, 6, 7])\n",
        "\n",
        "# Union of arrays (Unique elements from both arrays)\n",
        "union_result = np.union1d(array1, array2)\n",
        "print(\"Union of arrays:\", union_result)\n",
        "\n",
        "# Intersection of arrays (Common elements in both arrays)\n",
        "intersection_result = np.intersect1d(array1, array2)\n",
        "print(\"Intersection of arrays:\", intersection_result)\n",
        "\n",
        "# Set difference (Elements in array1 but not in array2)\n",
        "difference_result = np.setdiff1d(array1, array2)\n",
        "print(\"Set difference (array1 - array2):\", difference_result)\n",
        "\n",
        "# XOR (Exclusive OR) of arrays\n",
        "xor_result = np.setxor1d(array1, array2)\n",
        "print(\"XOR of arrays:\", xor_result)\n"
      ]
    },
    {
      "cell_type": "code",
      "execution_count": 6,
      "metadata": {
        "colab": {
          "base_uri": "https://localhost:8080/"
        },
        "id": "TD1DuaMzani4",
        "outputId": "38bde6ac-9cb9-41d4-a497-5f259d26cdf9"
      },
      "outputs": [
        {
          "name": "stdout",
          "output_type": "stream",
          "text": [
            "Original Array:\n",
            "[ 2  3  4  5  6  7  8  6 10]\n",
            "\n",
            "Cumulative Sum:\n",
            "[ 2  5  9 14 20 27 35 41 51]\n",
            "\n",
            "Cumulative Product:\n",
            "[      2       6      24     120     720    5040   40320  241920 2419200]\n",
            "\n",
            "Discrete Difference (n=3):\n",
            "[ 0  0  0  0 -3  9]\n",
            "\n",
            "Unique Elements:\n",
            "[ 2  3  4  5  6  7  8 10]\n"
          ]
        }
      ],
      "source": [
        "import numpy as np\n",
        "\n",
        "# Create a 1D array\n",
        "array =np.array([2,3,4,5,6,7,8,6,10])\n",
        "\n",
        "# Display the original array\n",
        "print(\"Original Array:\")\n",
        "print(array)\n",
        "\n",
        "# Cumulative Sum\n",
        "cumulative_sum = np.cumsum(array)\n",
        "print(\"\\nCumulative Sum:\")\n",
        "print(cumulative_sum)\n",
        "\n",
        "# Cumulative Product\n",
        "cumulative_product = np.cumprod(array)\n",
        "print(\"\\nCumulative Product:\")\n",
        "print(cumulative_product)\n",
        "\n",
        "# Discrete Difference (with n=3)\n",
        "discrete_difference = np.diff(array, n=3)\n",
        "print(\"\\nDiscrete Difference (n=3):\")\n",
        "print(discrete_difference)\n",
        "\n",
        "# Find Unique Elements\n",
        "unique_elements = np.unique(array)\n",
        "print(\"\\nUnique Elements:\")\n",
        "print(unique_elements)\n"
      ]
    },
    {
      "cell_type": "code",
      "execution_count": 7,
      "metadata": {
        "colab": {
          "base_uri": "https://localhost:8080/"
        },
        "id": "6x3MFKSgenm_",
        "outputId": "3df90d38-3282-4ca5-d126-45c8b5656f1f"
      },
      "outputs": [
        {
          "name": "stdout",
          "output_type": "stream",
          "text": [
            "Addition using zip():\n",
            "[6 6 6 6 6]\n",
            "\n",
            "Addition using np.add():\n",
            "[6 6 6 6 6]\n",
            "\n",
            "Addition using user-defined function (frompyfunc()):\n",
            "[6 6 6 6 6]\n"
          ]
        }
      ],
      "source": [
        "import numpy as np\n",
        "\n",
        "# Create two 1D arrays\n",
        "array1 = np.array([1, 2, 3, 4, 5])\n",
        "array2 = np.array([5, 4, 3, 2, 1])\n",
        "\n",
        "# Perform addition using zip()\n",
        "result_zip = np.array([a + b for a, b in zip(array1, array2)])\n",
        "print(\"Addition using zip():\")\n",
        "print(result_zip)\n",
        "\n",
        "# Perform addition using np.add()\n",
        "result_np_add = np.add(array1, array2)\n",
        "print(\"\\nAddition using np.add():\")\n",
        "print(result_np_add)\n",
        "\n",
        "# Define a user-defined addition function\n",
        "def user_defined_add(a, b):\n",
        "    return a + b\n",
        "\n",
        "# Create a ufunc (user-defined function) from the user_defined_add function\n",
        "add_ufunc = np.frompyfunc(user_defined_add, 2, 1)\n",
        "\n",
        "# Perform addition using the user-defined function\n",
        "result_user_defined = add_ufunc(array1, array2)\n",
        "print(\"\\nAddition using user-defined function (frompyfunc()):\")\n",
        "print(result_user_defined)\n"
      ]
    },
    {
      "cell_type": "code",
      "execution_count": 8,
      "metadata": {
        "colab": {
          "base_uri": "https://localhost:8080/"
        },
        "id": "YVAIdiNbfoTr",
        "outputId": "436f00af-ec7f-4a3c-9675-dc112064b999"
      },
      "outputs": [
        {
          "name": "stdout",
          "output_type": "stream",
          "text": [
            "GCD of the array: 6\n",
            "LCM of the array: 360\n"
          ]
        }
      ],
      "source": [
        "from functools import reduce\n",
        "import numpy as np\n",
        "from functools import reduce\n",
        "from math import gcd\n",
        "\n",
        "# Create an array of elements\n",
        "array = np.array([12, 18, 24, 30])\n",
        "\n",
        "# Function to find the LCM of two numbers\n",
        "def lcm(a, b):\n",
        "    return abs(a * b) // gcd(a, b)\n",
        "\n",
        "# Function to find the GCD of an array of numbers\n",
        "def find_gcd(arr):\n",
        "    return reduce(gcd, arr)\n",
        "\n",
        "# Function to find the LCM of an array of numbers\n",
        "def find_lcm(arr):\n",
        "    return reduce(lcm, arr)\n",
        "\n",
        "# Find the GCD of the array\n",
        "gcd_result = find_gcd(array)\n",
        "print(\"GCD of the array:\", gcd_result)\n",
        "\n",
        "# Find the LCM of the array\n",
        "lcm_result = find_lcm(array)\n",
        "print(\"LCM of the array:\", lcm_result)\n"
      ]
    },
    {
      "cell_type": "markdown",
      "metadata": {
        "id": "agdX6HlXZNZ0"
      },
      "source": []
    }
  ],
  "metadata": {
    "colab": {
      "provenance": []
    },
    "kernelspec": {
      "display_name": "Python 3",
      "name": "python3"
    },
    "language_info": {
      "name": "python"
    }
  },
  "nbformat": 4,
  "nbformat_minor": 0
}
